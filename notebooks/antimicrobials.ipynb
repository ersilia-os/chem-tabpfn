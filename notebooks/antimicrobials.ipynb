{
 "cells": [
  {
   "cell_type": "code",
   "execution_count": 5,
   "metadata": {},
   "outputs": [
    {
     "name": "stdout",
     "output_type": "stream",
     "text": [
      "Loading model that can be used for inference only\n",
      "Using a Transformer with 25.82 M parameters\n"
     ]
    }
   ],
   "source": [
    "from chempfn import ChemPFN\n",
    "import warnings\n",
    "\n",
    "with warnings.catch_warnings(record=True) as w:\n",
    "  clf = ChemPFN(random_state=42)"
   ]
  },
  {
   "cell_type": "code",
   "execution_count": 3,
   "metadata": {},
   "outputs": [],
   "source": [
    "Pathogen = \"Schistosoma mansoni\" \n",
    "Cutoff = \"LC\"\n",
    "Type = \"Organism\""
   ]
  },
  {
   "cell_type": "code",
   "execution_count": 4,
   "metadata": {},
   "outputs": [
    {
     "data": {
      "text/html": [
       "<div>\n",
       "<style scoped>\n",
       "    .dataframe tbody tr th:only-of-type {\n",
       "        vertical-align: middle;\n",
       "    }\n",
       "\n",
       "    .dataframe tbody tr th {\n",
       "        vertical-align: top;\n",
       "    }\n",
       "\n",
       "    .dataframe thead th {\n",
       "        text-align: right;\n",
       "    }\n",
       "</style>\n",
       "<table border=\"1\" class=\"dataframe\">\n",
       "  <thead>\n",
       "    <tr style=\"text-align: right;\">\n",
       "      <th></th>\n",
       "      <th>compound_chembl_id</th>\n",
       "      <th>smiles</th>\n",
       "      <th>activity</th>\n",
       "    </tr>\n",
       "  </thead>\n",
       "  <tbody>\n",
       "    <tr>\n",
       "      <th>0</th>\n",
       "      <td>CHEMBL1082517</td>\n",
       "      <td>O=C(Oc1nsnc1N1CCOCC1)N1CCCCC1</td>\n",
       "      <td>0</td>\n",
       "    </tr>\n",
       "    <tr>\n",
       "      <th>1</th>\n",
       "      <td>CHEMBL1082775</td>\n",
       "      <td>Fc1ccc(-c2nc(-c3c[nH]c4ccc(Br)cc34)[nH]c2-c2cc...</td>\n",
       "      <td>0</td>\n",
       "    </tr>\n",
       "    <tr>\n",
       "      <th>2</th>\n",
       "      <td>CHEMBL10835</td>\n",
       "      <td>O=C(Nc1ccc(Cl)c(Cl)c1)Nc1ccc(Cl)c(Cl)c1</td>\n",
       "      <td>1</td>\n",
       "    </tr>\n",
       "    <tr>\n",
       "      <th>3</th>\n",
       "      <td>CHEMBL1086972</td>\n",
       "      <td>Nc1[nH]ncc1-c1nnc(Nc2ccc3c(c2)OCO3)o1</td>\n",
       "      <td>0</td>\n",
       "    </tr>\n",
       "    <tr>\n",
       "      <th>4</th>\n",
       "      <td>CHEMBL1088776</td>\n",
       "      <td>O=C(N1CCC(F)(F)CC1)N1CC(=O)N2CCc3ccccc3C2C1</td>\n",
       "      <td>0</td>\n",
       "    </tr>\n",
       "    <tr>\n",
       "      <th>...</th>\n",
       "      <td>...</td>\n",
       "      <td>...</td>\n",
       "      <td>...</td>\n",
       "    </tr>\n",
       "    <tr>\n",
       "      <th>211939</th>\n",
       "      <td>CHEMBL88430</td>\n",
       "      <td>COc1ccc(OC)c(NCc2ccc3nc(N)nc(N)c3c2Cl)c1</td>\n",
       "      <td>0</td>\n",
       "    </tr>\n",
       "    <tr>\n",
       "      <th>211940</th>\n",
       "      <td>CHEMBL9005</td>\n",
       "      <td>O=C(NCCn1ccnc1)c1ccco1</td>\n",
       "      <td>0</td>\n",
       "    </tr>\n",
       "    <tr>\n",
       "      <th>211941</th>\n",
       "      <td>CHEMBL91867</td>\n",
       "      <td>CC#CC(=O)Nc1ccc2ncnc(Nc3cccc(Br)c3)c2c1</td>\n",
       "      <td>1</td>\n",
       "    </tr>\n",
       "    <tr>\n",
       "      <th>211942</th>\n",
       "      <td>CHEMBL976</td>\n",
       "      <td>O=C(C1CCCCC1)N1CC(=O)N2CCc3ccccc3C2C1</td>\n",
       "      <td>1</td>\n",
       "    </tr>\n",
       "    <tr>\n",
       "      <th>211943</th>\n",
       "      <td>CHEMBL99</td>\n",
       "      <td>CC(/C=C/C(=O)NO)=C\\[C@@H](C)C(=O)c1ccc(N(C)C)cc1</td>\n",
       "      <td>1</td>\n",
       "    </tr>\n",
       "  </tbody>\n",
       "</table>\n",
       "<p>211944 rows × 3 columns</p>\n",
       "</div>"
      ],
      "text/plain": [
       "       compound_chembl_id                                             smiles  \\\n",
       "0           CHEMBL1082517                      O=C(Oc1nsnc1N1CCOCC1)N1CCCCC1   \n",
       "1           CHEMBL1082775  Fc1ccc(-c2nc(-c3c[nH]c4ccc(Br)cc34)[nH]c2-c2cc...   \n",
       "2             CHEMBL10835            O=C(Nc1ccc(Cl)c(Cl)c1)Nc1ccc(Cl)c(Cl)c1   \n",
       "3           CHEMBL1086972              Nc1[nH]ncc1-c1nnc(Nc2ccc3c(c2)OCO3)o1   \n",
       "4           CHEMBL1088776        O=C(N1CCC(F)(F)CC1)N1CC(=O)N2CCc3ccccc3C2C1   \n",
       "...                   ...                                                ...   \n",
       "211939        CHEMBL88430           COc1ccc(OC)c(NCc2ccc3nc(N)nc(N)c3c2Cl)c1   \n",
       "211940         CHEMBL9005                             O=C(NCCn1ccnc1)c1ccco1   \n",
       "211941        CHEMBL91867            CC#CC(=O)Nc1ccc2ncnc(Nc3cccc(Br)c3)c2c1   \n",
       "211942          CHEMBL976              O=C(C1CCCCC1)N1CC(=O)N2CCc3ccccc3C2C1   \n",
       "211943           CHEMBL99   CC(/C=C/C(=O)NO)=C\\[C@@H](C)C(=O)c1ccc(N(C)C)cc1   \n",
       "\n",
       "        activity  \n",
       "0              0  \n",
       "1              0  \n",
       "2              1  \n",
       "3              0  \n",
       "4              0  \n",
       "...          ...  \n",
       "211939         0  \n",
       "211940         0  \n",
       "211941         1  \n",
       "211942         1  \n",
       "211943         1  \n",
       "\n",
       "[211944 rows x 3 columns]"
      ]
     },
     "execution_count": 4,
     "metadata": {},
     "output_type": "execute_result"
    }
   ],
   "source": [
    "from chempfn.utils import AntiMicrobialsDatasetLoader\n",
    "\n",
    "dataset_loader = AntiMicrobialsDatasetLoader()\n",
    "data_df = dataset_loader.load(pathogen=Pathogen, cutoff=Cutoff, dataset_type=Type)\n",
    "\n",
    "data_df"
   ]
  },
  {
   "cell_type": "code",
   "execution_count": 6,
   "metadata": {},
   "outputs": [
    {
     "name": "stderr",
     "output_type": "stream",
     "text": [
      "5it [15:15, 183.17s/it]\n"
     ]
    }
   ],
   "source": [
    "with warnings.catch_warnings(record=True) as w:\n",
    "  results = clf.evaluate(data_df.smiles.to_list(), data_df.activity.to_list())"
   ]
  }
 ],
 "metadata": {
  "kernelspec": {
   "display_name": "chempfn",
   "language": "python",
   "name": "python3"
  },
  "language_info": {
   "codemirror_mode": {
    "name": "ipython",
    "version": 3
   },
   "file_extension": ".py",
   "mimetype": "text/x-python",
   "name": "python",
   "nbconvert_exporter": "python",
   "pygments_lexer": "ipython3",
   "version": "3.10.13"
  }
 },
 "nbformat": 4,
 "nbformat_minor": 2
}
